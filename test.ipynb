{
 "cells": [
  {
   "cell_type": "code",
   "execution_count": 1,
   "metadata": {},
   "outputs": [
    {
     "name": "stdout",
     "output_type": "stream",
     "text": [
      "Shape of grayscale image array: (1183, 480, 640)\n",
      "New zip file containing preprocessed images saved to: preprocessed_images.zip\n"
     ]
    }
   ],
   "source": [
    "import os\n",
    "import zipfile\n",
    "import cv2\n",
    "import numpy as np\n",
    "\n",
    "# Loading of Zip file and extraction\n",
    "zip_file_path = 'E7-images.zip'\n",
    "\n",
    "# Directory to extract images\n",
    "extracted_images_dir = 'extracted_images'\n",
    "\n",
    "# Create directory if it doesn't exist\n",
    "if not os.path.exists(extracted_images_dir):\n",
    "    os.makedirs(extracted_images_dir)\n",
    "\n",
    "# Extract images from zip file\n",
    "with zipfile.ZipFile(zip_file_path, 'r') as zip_ref:\n",
    "    zip_ref.extractall(extracted_images_dir)\n",
    "\n",
    "# List all extracted image files\n",
    "image_files = [f for f in os.listdir(extracted_images_dir) if f.endswith(('.jpg', '.jpeg', '.png'))]\n",
    "\n",
    "# Initialize lists to store image arrays and filenames\n",
    "image_arrays = []\n",
    "grayscale_image_arrays = []\n",
    "original_filenames = []\n",
    "\n",
    "# Load and preprocess images\n",
    "for image_file in image_files:\n",
    "    # Construct full path to the image file\n",
    "    image_path = os.path.join(extracted_images_dir, image_file)\n",
    "\n",
    "    # Load image using OpenCV\n",
    "    image = cv2.imread(image_path)\n",
    "\n",
    "    if image is None:\n",
    "        print(f\"Unable to load image: {image_path}\")\n",
    "        continue\n",
    "\n",
    "    # Convert image to grayscale\n",
    "    grayscale_image = cv2.cvtColor(image, cv2.COLOR_BGR2GRAY)\n",
    "    \n",
    "    # Append grayscale image array to the list\n",
    "    grayscale_image_arrays.append(grayscale_image)\n",
    "\n",
    "    # Store the original filename\n",
    "    original_filenames.append(image_file)\n",
    "\n",
    "# Convert the list of grayscale image arrays to a NumPy array\n",
    "grayscale_image_arrays_np = np.array(grayscale_image_arrays)\n",
    "\n",
    "# Print the shape of the NumPy array\n",
    "print(\"Shape of grayscale image array:\", grayscale_image_arrays_np.shape)\n",
    "\n",
    "# Function to create a new zip file containing preprocessed images\n",
    "def create_preprocessed_zip(preprocessed_image_arrays, filenames, output_zip_path):\n",
    "    # Create a new zip file\n",
    "    with zipfile.ZipFile(output_zip_path, 'w') as zipf:\n",
    "        # Loop through each preprocessed image array and its corresponding filename\n",
    "        for filename, image_array in zip(filenames, preprocessed_image_arrays):\n",
    "            # Convert image array back to uint8 if necessary\n",
    "            if image_array.dtype != 'uint8':\n",
    "                image_array = (image_array * 255).astype('uint8')\n",
    "\n",
    "            # Write the image to the zip file with \"p_\" prefix\n",
    "            image_filename = f\"p_{filename}\"\n",
    "            cv2.imwrite(image_filename, image_array)\n",
    "            zipf.write(image_filename)\n",
    "            # Remove the temporary image file\n",
    "            os.remove(image_filename)\n",
    "\n",
    "# Path to save the new zip file\n",
    "output_zip_path = 'preprocessed_images.zip'\n",
    "\n",
    "# Call the function to create the new zip file containing preprocessed images\n",
    "create_preprocessed_zip(grayscale_image_arrays_np, original_filenames, output_zip_path)\n",
    "\n",
    "print(f\"New zip file containing preprocessed images saved to: {output_zip_path}\")\n"
   ]
  },
  {
   "cell_type": "code",
   "execution_count": 2,
   "metadata": {},
   "outputs": [
    {
     "name": "stderr",
     "output_type": "stream",
     "text": [
      "/tmp/ipykernel_123987/3102045609.py:10: DeprecationWarning: `np.int0` is a deprecated alias for `np.intp`.  (Deprecated NumPy 1.24)\n",
      "  box = np.int0(box)\n"
     ]
    },
    {
     "name": "stdout",
     "output_type": "stream",
     "text": [
      "New zip file containing images with bounding boxes saved to: box.zip\n"
     ]
    }
   ],
   "source": [
    "import os\n",
    "import zipfile\n",
    "import cv2\n",
    "import numpy as np\n",
    "\n",
    "# Function to find minimum area bounding box around a contour\n",
    "def min_area_rect(contour):\n",
    "    rect = cv2.minAreaRect(contour)\n",
    "    box = cv2.boxPoints(rect)\n",
    "    box = np.int0(box)\n",
    "    return box\n",
    "\n",
    "# Path to the preprocessed ZIP file\n",
    "preprocessed_zip_path = 'preprocessed_images.zip'\n",
    "\n",
    "# Directory to extract images with bounding boxes\n",
    "boxed_images_dir = 'boxed_images'\n",
    "\n",
    "# Create directory if it doesn't exist\n",
    "if not os.path.exists(boxed_images_dir):\n",
    "    os.makedirs(boxed_images_dir)\n",
    "\n",
    "# Extract images from the preprocessed ZIP file\n",
    "with zipfile.ZipFile(preprocessed_zip_path, 'r') as zip_ref:\n",
    "    zip_ref.extractall(boxed_images_dir)\n",
    "\n",
    "# List all extracted preprocessed image files\n",
    "image_files = [f for f in os.listdir(boxed_images_dir) if f.endswith(('.jpg', '.jpeg', '.png'))]\n",
    "\n",
    "# Iterate through each image file to find contours and draw bounding boxes\n",
    "for image_file in image_files:\n",
    "    # Construct full path to the image file\n",
    "    image_path = os.path.join(boxed_images_dir, image_file)\n",
    "\n",
    "    # Load image using OpenCV\n",
    "    image = cv2.imread(image_path)\n",
    "\n",
    "    if image is None:\n",
    "        print(f\"Unable to load image: {image_path}\")\n",
    "        continue\n",
    "\n",
    "    # Convert image to grayscale\n",
    "    grayscale_image = cv2.cvtColor(image, cv2.COLOR_BGR2GRAY)\n",
    "\n",
    "    # Threshold the grayscale image to create a mask\n",
    "    _, mask = cv2.threshold(grayscale_image, 240, 255, cv2.THRESH_BINARY_INV)\n",
    "\n",
    "    # Find contours in the mask\n",
    "    contours, _ = cv2.findContours(mask, cv2.RETR_EXTERNAL, cv2.CHAIN_APPROX_SIMPLE)\n",
    "\n",
    "    # Iterate through each contour to draw bounding box on the original image\n",
    "    for contour in contours:\n",
    "        # Find minimum area bounding box\n",
    "        box = min_area_rect(contour)\n",
    "\n",
    "        # Draw bounding box on the original color image\n",
    "        cv2.drawContours(image, [box], 0, (0, 255, 0), 2)\n",
    "\n",
    "    # Save the original image with bounding box\n",
    "    boxed_image_path = os.path.join(boxed_images_dir, f\"boxed_{image_file}\")\n",
    "    cv2.imwrite(boxed_image_path, image)\n",
    "\n",
    "# Rename the image files to start with \"box_\"\n",
    "for image_file in image_files:\n",
    "    old_path = os.path.join(boxed_images_dir, f\"boxed_{image_file}\")\n",
    "    new_path = os.path.join(boxed_images_dir, f\"box_{image_file}\")\n",
    "    os.rename(old_path, new_path)\n",
    "\n",
    "# Path to save the new zip file with images containing bounding boxes\n",
    "boxed_zip_path = 'box.zip'\n",
    "\n",
    "# Create a new zip file containing images with bounding boxes\n",
    "with zipfile.ZipFile(boxed_zip_path, 'w') as zipf:\n",
    "    # Loop through each image file with bounding box\n",
    "    for image_file in image_files:\n",
    "        boxed_image_path = os.path.join(boxed_images_dir, f\"box_{image_file}\")\n",
    "        zipf.write(boxed_image_path, f\"box_{image_file}\")\n",
    "\n",
    "print(f\"New zip file containing images with bounding boxes saved to: {boxed_zip_path}\")\n"
   ]
  },
  {
   "cell_type": "code",
   "execution_count": 5,
   "metadata": {},
   "outputs": [
    {
     "name": "stdout",
     "output_type": "stream",
     "text": [
      "Cluster 1:\n"
     ]
    },
    {
     "data": {
      "image/png": "[encoded data removed]",
      "text/plain": [
       "<Figure size 864x17280 with 8 Axes>"
      ]
     },
     "metadata": {
      "needs_background": "light"
     },
     "output_type": "display_data"
    },
    {
     "name": "stdout",
     "output_type": "stream",
     "text": [
      "Cluster 2:\n"
     ]
    },
    {
     "data": {
      "image/png": "[encoded data removed]",
      "text/plain": [
       "<Figure size 864x14256 with 8 Axes>"
      ]
     },
     "metadata": {
      "needs_background": "light"
     },
     "output_type": "display_data"
    },
    {
     "name": "stdout",
     "output_type": "stream",
     "text": [
      "Cluster 3:\n"
     ]
    },
    {
     "data": {
      "image/png": "[encoded data removed]",
      "text/plain": [
       "<Figure size 864x32616 with 8 Axes>"
      ]
     },
     "metadata": {
      "needs_background": "light"
     },
     "output_type": "display_data"
    }
   ],
   "source": [
    "import cv2\n",
    "import os\n",
    "import numpy as np\n",
    "import matplotlib.pyplot as plt\n",
    "from sklearn.cluster import KMeans\n",
    "from zipfile import ZipFile\n",
    "\n",
    "# Define the path to the zip file and extraction directory\n",
    "zip_file_path = 'preprocessed_images.zip'\n",
    "extract_dir = 'preprocessed_images'\n",
    "\n",
    "# Extract the zip file\n",
    "with ZipFile(zip_file_path, 'r') as zip_ref:\n",
    "    zip_ref.extractall(extract_dir)\n",
    "\n",
    "# Function to load preprocessed images\n",
    "def load_images(image_dir):\n",
    "    images = []\n",
    "    filenames = []\n",
    "    \n",
    "    # Iterate over each image file in the directory\n",
    "    for filename in os.listdir(image_dir):\n",
    "        # Read the image\n",
    "        image_path = os.path.join(image_dir, filename)\n",
    "        image = cv2.imread(image_path, cv2.IMREAD_GRAYSCALE)\n",
    "        \n",
    "        if image is None:\n",
    "            continue\n",
    "        \n",
    "        # Flatten the grayscale image to create a feature vector\n",
    "        feature_vector = image.flatten()\n",
    "        \n",
    "        # Append the feature vector and filename to the lists\n",
    "        images.append(feature_vector)\n",
    "        filenames.append(filename)\n",
    "    \n",
    "    return images, filenames\n",
    "\n",
    "# Load preprocessed images\n",
    "images, filenames = load_images(extract_dir)\n",
    "\n",
    "# Convert list of images to NumPy array\n",
    "X = np.array(images)\n",
    "\n",
    "# Apply K-means clustering\n",
    "n_clusters = 3  # Number of clusters\n",
    "kmeans = KMeans(n_clusters=n_clusters, random_state=42)\n",
    "labels = kmeans.fit_predict(X)\n",
    "\n",
    "# Visualize 8 images from each cluster in a grid format\n",
    "num_images_per_cluster = 8  # Number of images to display per cluster\n",
    "num_cols = 4  # Number of columns for displaying images\n",
    "\n",
    "for cluster_idx in range(n_clusters):\n",
    "    print(f\"Cluster {cluster_idx + 1}:\")\n",
    "    cluster_images = [filenames[i] for i, label in enumerate(labels) if label == cluster_idx]\n",
    "    \n",
    "    num_rows = int(np.ceil(len(cluster_images) / num_cols))\n",
    "    \n",
    "    plt.figure(figsize=(12, 3 * num_rows))\n",
    "    \n",
    "    for idx, image_filename in enumerate(cluster_images[:num_images_per_cluster]):\n",
    "        image_path = os.path.join(extract_dir, image_filename)\n",
    "        image = cv2.imread(image_path)\n",
    "        image_rgb = cv2.cvtColor(image, cv2.COLOR_BGR2RGB)\n",
    "        \n",
    "        plt.subplot(num_rows, num_cols, idx + 1)\n",
    "        plt.imshow(image_rgb)\n",
    "        plt.title(f\"Image {idx + 1}\")\n",
    "        plt.axis('off')\n",
    "    \n",
    "    plt.suptitle(f\"Cluster {cluster_idx + 1}\")\n",
    "    plt.tight_layout()\n",
    "    plt.show()\n"
   ]
  },
  {
   "cell_type": "code",
   "execution_count": 6,
   "metadata": {},
   "outputs": [
    {
     "name": "stderr",
     "output_type": "stream",
     "text": [
      "/tmp/ipykernel_188034/674047984.py:44: DeprecationWarning: `np.int0` is a deprecated alias for `np.intp`.  (Deprecated NumPy 1.24)\n",
      "  box = np.int0(box)\n"
     ]
    },
    {
     "name": "stdout",
     "output_type": "stream",
     "text": [
      "Data saved to image_features.csv\n"
     ]
    }
   ],
   "source": [
    "import cv2\n",
    "import os\n",
    "import numpy as np\n",
    "import pandas as pd\n",
    "from zipfile import ZipFile\n",
    "\n",
    "# Define the path to the zip file and extraction directory\n",
    "zip_file_path = 'preprocessed_images.zip'\n",
    "extract_dir = 'preprocessed_images'\n",
    "\n",
    "# Extract the zip file\n",
    "with ZipFile(zip_file_path, 'r') as zip_ref:\n",
    "    zip_ref.extractall(extract_dir)\n",
    "\n",
    "# Function to process images and extract features\n",
    "def process_images(image_dir):\n",
    "    data = []\n",
    "    \n",
    "    # Iterate over each image file in the directory\n",
    "    for filename in os.listdir(image_dir):\n",
    "        # Read the image\n",
    "        image_path = os.path.join(image_dir, filename)\n",
    "        image = cv2.imread(image_path, cv2.IMREAD_GRAYSCALE)\n",
    "        \n",
    "        if image is None:\n",
    "            continue\n",
    "        \n",
    "        # Threshold the image\n",
    "        _, binary_image = cv2.threshold(image, 0, 255, cv2.THRESH_BINARY_INV + cv2.THRESH_OTSU)\n",
    "        \n",
    "        # Find contours\n",
    "        contours, _ = cv2.findContours(binary_image, cv2.RETR_EXTERNAL, cv2.CHAIN_APPROX_SIMPLE)\n",
    "        \n",
    "        # Calculate layout area\n",
    "        layout_area = cv2.contourArea(contours[0]) if contours else 0.0\n",
    "        \n",
    "        # Calculate number of edges\n",
    "        num_edges = len(contours[0]) if contours else 0\n",
    "        \n",
    "        # Calculate minimum bounding box dimensions\n",
    "        if contours:\n",
    "            rect = cv2.minAreaRect(contours[0])\n",
    "            box = cv2.boxPoints(rect)\n",
    "            box = np.int0(box)\n",
    "            \n",
    "            width = np.linalg.norm(box[0] - box[1])\n",
    "            height = np.linalg.norm(box[1] - box[2])\n",
    "        else:\n",
    "            width, height = 0.0, 0.0\n",
    "        \n",
    "        # Append data to list\n",
    "        data.append([filename, layout_area, num_edges, width, height])\n",
    "    \n",
    "    return data\n",
    "\n",
    "# Process images and extract features\n",
    "data = process_images(extract_dir)\n",
    "\n",
    "# Create a DataFrame\n",
    "df = pd.DataFrame(data, columns=['Image Name', 'Layout Area', 'Number of Edges', 'Width', 'Height'])\n",
    "\n",
    "# Save DataFrame to CSV file\n",
    "csv_file_path = 'image_features.csv'\n",
    "df.to_csv(csv_file_path, index=False)\n",
    "\n",
    "print(f\"Data saved to {csv_file_path}\")\n"
   ]
  },
  {
   "cell_type": "code",
   "execution_count": 8,
   "metadata": {},
   "outputs": [
    {
     "name": "stderr",
     "output_type": "stream",
     "text": [
      "/tmp/ipykernel_188034/1265810783.py:59: DeprecationWarning: `np.int0` is a deprecated alias for `np.intp`.  (Deprecated NumPy 1.24)\n",
      "  box = np.int0(box)\n"
     ]
    },
    {
     "name": "stdout",
     "output_type": "stream",
     "text": [
      "Data saved to image_features_.csv\n"
     ]
    }
   ],
   "source": [
    "import cv2\n",
    "import os\n",
    "import numpy as np\n",
    "import pandas as pd\n",
    "from zipfile import ZipFile\n",
    "\n",
    "# Define the path to the zip file and extraction directory\n",
    "zip_file_path = 'preprocessed_images.zip'\n",
    "extract_dir = 'preprocessed_images'\n",
    "\n",
    "# Extract the zip file\n",
    "with ZipFile(zip_file_path, 'r') as zip_ref:\n",
    "    zip_ref.extractall(extract_dir)\n",
    "\n",
    "# Function to process images and extract features\n",
    "def process_images(image_dir):\n",
    "    data = []\n",
    "    \n",
    "    # Iterate over each image file in the directory\n",
    "    for filename in os.listdir(image_dir):\n",
    "        # Read the image\n",
    "        image_path = os.path.join(image_dir, filename)\n",
    "        image = cv2.imread(image_path, cv2.IMREAD_GRAYSCALE)\n",
    "        \n",
    "        if image is None:\n",
    "            continue\n",
    "        \n",
    "        # Apply Gaussian blur to smooth the image\n",
    "        blurred_image = cv2.GaussianBlur(image, (5, 5), 0)\n",
    "        \n",
    "        # Threshold the blurred image\n",
    "        _, binary_image = cv2.threshold(blurred_image, 0, 255, cv2.THRESH_BINARY_INV + cv2.THRESH_OTSU)\n",
    "        \n",
    "        # Find contours\n",
    "        contours, _ = cv2.findContours(binary_image, cv2.RETR_EXTERNAL, cv2.CHAIN_APPROX_SIMPLE)\n",
    "        \n",
    "        # Initialize an empty list to store approximated contours\n",
    "        approx_contours = []\n",
    "        \n",
    "        # Iterate over contours\n",
    "        for contour in contours:\n",
    "            # Approximate contour\n",
    "            epsilon = 0.01 * cv2.arcLength(contour, True)\n",
    "            approx = cv2.approxPolyDP(contour, epsilon, True)\n",
    "            \n",
    "            # Add approximated contour to list\n",
    "            approx_contours.append(approx)\n",
    "        \n",
    "        # Calculate layout area\n",
    "        layout_area = cv2.contourArea(approx_contours[0]) if approx_contours else 0.0\n",
    "        \n",
    "        # Calculate number of edges\n",
    "        num_edges = len(approx_contours[0]) if approx_contours else 0\n",
    "        \n",
    "        # Calculate minimum bounding box dimensions\n",
    "        if approx_contours:\n",
    "            rect = cv2.minAreaRect(approx_contours[0])\n",
    "            box = cv2.boxPoints(rect)\n",
    "            box = np.int0(box)\n",
    "            \n",
    "            width = np.linalg.norm(box[0] - box[1])\n",
    "            height = np.linalg.norm(box[1] - box[2])\n",
    "        else:\n",
    "            width, height = 0.0, 0.0\n",
    "        \n",
    "        # Append data to list\n",
    "        data.append([filename, layout_area, num_edges, width, height])\n",
    "    \n",
    "    # Sort data based on image names\n",
    "    data.sort(key=lambda x: x[0])\n",
    "    \n",
    "    return data\n",
    "\n",
    "# Process images and extract features\n",
    "data = process_images(extract_dir)\n",
    "\n",
    "# Create a DataFrame\n",
    "df = pd.DataFrame(data, columns=['Image Name', 'Layout Area', 'Number of Edges', 'Width', 'Height'])\n",
    "\n",
    "# Save DataFrame to CSV file\n",
    "csv_file_path = 'image_features_.csv'\n",
    "df.to_csv(csv_file_path, index=False)\n",
    "\n",
    "print(f\"Data saved to {csv_file_path}\")\n"
   ]
  },
  {
   "cell_type": "code",
   "execution_count": 9,
   "metadata": {},
   "outputs": [
    {
     "data": {
      "image/png": "[encoded data removed]",
      "text/plain": [
       "<Figure size 720x432 with 1 Axes>"
      ]
     },
     "metadata": {
      "needs_background": "light"
     },
     "output_type": "display_data"
    },
    {
     "name": "stdout",
     "output_type": "stream",
     "text": [
      "Clustered data saved to image_features_clustered.csv\n"
     ]
    }
   ],
   "source": [
    "import pandas as pd\n",
    "import numpy as np\n",
    "from sklearn.cluster import KMeans\n",
    "import matplotlib.pyplot as plt\n",
    "\n",
    "# Load the data from the CSV file\n",
    "csv_file_path = 'image_features_.csv'\n",
    "df = pd.read_csv(csv_file_path)\n",
    "\n",
    "# Select the 'Number of Edges' column for clustering\n",
    "X = df[['Number of Edges']].values\n",
    "\n",
    "# Apply K-means clustering\n",
    "n_clusters = 3\n",
    "kmeans = KMeans(n_clusters=n_clusters, random_state=42)\n",
    "df['Cluster'] = kmeans.fit_predict(X)\n",
    "\n",
    "# Visualize the clusters\n",
    "plt.figure(figsize=(10, 6))\n",
    "for cluster_idx in range(n_clusters):\n",
    "    cluster_data = df[df['Cluster'] == cluster_idx]['Number of Edges']\n",
    "    plt.hist(cluster_data, bins=30, alpha=0.5, label=f'Cluster {cluster_idx + 1}')\n",
    "\n",
    "plt.title('Distribution of Number of Edges across Clusters')\n",
    "plt.xlabel('Number of Edges')\n",
    "plt.ylabel('Frequency')\n",
    "plt.legend()\n",
    "plt.show()\n",
    "\n",
    "# Save the clustered data back to CSV file\n",
    "clustered_csv_file_path = 'image_features_clustered.csv'\n",
    "df.to_csv(clustered_csv_file_path, index=False)\n",
    "\n",
    "print(f\"Clustered data saved to {clustered_csv_file_path}\")\n"
   ]
  },
  {
   "cell_type": "code",
   "execution_count": 10,
   "metadata": {},
   "outputs": [
    {
     "data": {
      "image/png": "[encoded data removed]",
      "text/plain": [
       "<Figure size 1080x216 with 5 Axes>"
      ]
     },
     "metadata": {
      "needs_background": "light"
     },
     "output_type": "display_data"
    },
    {
     "data": {
      "image/png": "[encoded data removed]",
      "text/plain": [
       "<Figure size 1080x216 with 5 Axes>"
      ]
     },
     "metadata": {
      "needs_background": "light"
     },
     "output_type": "display_data"
    },
    {
     "data": {
      "image/png": "[encoded data removed]",
      "text/plain": [
       "<Figure size 1080x216 with 5 Axes>"
      ]
     },
     "metadata": {
      "needs_background": "light"
     },
     "output_type": "display_data"
    }
   ],
   "source": [
    "import cv2\n",
    "import pandas as pd\n",
    "import matplotlib.pyplot as plt\n",
    "\n",
    "# Load the clustered data from the CSV file\n",
    "clustered_csv_file_path = 'image_features_clustered.csv'\n",
    "df = pd.read_csv(clustered_csv_file_path)\n",
    "\n",
    "# Function to display images from each cluster\n",
    "def display_images_from_cluster(df, cluster_idx, num_images=5):\n",
    "    cluster_data = df[df['Cluster'] == cluster_idx]\n",
    "    filenames = cluster_data['Image Name'].tolist()[:num_images]\n",
    "    \n",
    "    plt.figure(figsize=(15, 3))\n",
    "    \n",
    "    for idx, filename in enumerate(filenames):\n",
    "        image_path = f\"preprocessed_images/{filename}\"\n",
    "        image = cv2.imread(image_path)\n",
    "        image_rgb = cv2.cvtColor(image, cv2.COLOR_BGR2RGB)\n",
    "        \n",
    "        plt.subplot(1, num_images, idx + 1)\n",
    "        plt.imshow(image_rgb)\n",
    "        plt.title(f\"{filename}\\nEdges: {cluster_data.iloc[idx]['Number of Edges']}\")\n",
    "        plt.axis('off')\n",
    "    \n",
    "    plt.suptitle(f\"Cluster {cluster_idx + 1}\")\n",
    "    plt.tight_layout()\n",
    "    plt.show()\n",
    "\n",
    "# Display 5 images from each cluster\n",
    "for cluster_idx in range(3):\n",
    "    display_images_from_cluster(df, cluster_idx)\n"
   ]
  },
  {
   "cell_type": "code",
   "execution_count": 11,
   "metadata": {},
   "outputs": [
    {
     "name": "stdout",
     "output_type": "stream",
     "text": [
      "Images saved to their respective cluster folders.\n"
     ]
    }
   ],
   "source": [
    "import cv2\n",
    "import os\n",
    "import pandas as pd\n",
    "\n",
    "# Load the clustered data from the CSV file\n",
    "clustered_csv_file_path = 'image_features_clustered.csv'\n",
    "df = pd.read_csv(clustered_csv_file_path)\n",
    "\n",
    "# Create separate folders for each cluster\n",
    "for cluster_idx in range(3):\n",
    "    folder_name = f'Cluster_{cluster_idx + 1}'\n",
    "    os.makedirs(folder_name, exist_ok=True)\n",
    "\n",
    "# Function to save images to their respective cluster folders\n",
    "def save_images_to_cluster_folders(df):\n",
    "    for _, row in df.iterrows():\n",
    "        cluster_idx = row['Cluster']\n",
    "        folder_name = f'Cluster_{cluster_idx + 1}'\n",
    "        image_name = row['Image Name']\n",
    "        \n",
    "        source_path = f\"preprocessed_images/{image_name}\"\n",
    "        destination_path = f\"{folder_name}/{image_name}\"\n",
    "        \n",
    "        # Copy image to the corresponding cluster folder\n",
    "        os.system(f'cp \"{source_path}\" \"{destination_path}\"')\n",
    "\n",
    "# Save images to their respective cluster folders\n",
    "save_images_to_cluster_folders(df)\n",
    "\n",
    "print(\"Images saved to their respective cluster folders.\")\n"
   ]
  },
  {
   "cell_type": "code",
   "execution_count": 12,
   "metadata": {},
   "outputs": [
    {
     "name": "stdout",
     "output_type": "stream",
     "text": [
      "Updated data saved to image_features_clustered_updated.csv\n"
     ]
    }
   ],
   "source": [
    "import pandas as pd\n",
    "\n",
    "# Load the clustered data from the CSV file\n",
    "clustered_csv_file_path = 'image_features_clustered.csv'\n",
    "df = pd.read_csv(clustered_csv_file_path)\n",
    "\n",
    "# Function to map cluster index to cluster name\n",
    "def map_cluster_name(cluster_idx):\n",
    "    return f'Cluster_{cluster_idx + 1}'\n",
    "\n",
    "# Add 'Cluster Name' column to the DataFrame\n",
    "df['Cluster Name'] = df['Cluster'].apply(map_cluster_name)\n",
    "\n",
    "# Save the updated DataFrame back to CSV file\n",
    "updated_csv_file_path = 'image_features_clustered_updated.csv'\n",
    "df.to_csv(updated_csv_file_path, index=False)\n",
    "\n",
    "print(f\"Updated data saved to {updated_csv_file_path}\")\n",
    "\n"
   ]
  },
  {
   "cell_type": "code",
   "execution_count": 34,
   "metadata": {},
   "outputs": [
    {
     "name": "stdout",
     "output_type": "stream",
     "text": [
      "Input values: Width = 336.0, Height = 449.0, Complexity Level = High\n",
      "Top 5 similar image paths for High complexity:\n",
      "Cluster_2/p_0016.jpg\n",
      "Cluster_2/p_0047.jpg\n",
      "Cluster_2/p_0083.jpg\n",
      "Cluster_2/p_0112.jpg\n",
      "Cluster_2/p_0115.jpg\n"
     ]
    }
   ],
   "source": [
    "import pandas as pd\n",
    "import os\n",
    "\n",
    "def find_similar_images(width, height, complexity_level, threshold=5):\n",
    "    # Load CSV data\n",
    "    df = pd.read_csv('image_features_clustered_updated.csv')\n",
    "    \n",
    "    # Map complexity level to cluster\n",
    "    if complexity_level == 'High':\n",
    "        cluster_folder = 'Cluster_2'  # Adjusted cluster value\n",
    "        cluster_data = df[df['Cluster'] == 1]  # Adjusted cluster value\n",
    "    elif complexity_level == 'Medium':\n",
    "        cluster_folder = 'Cluster_1'  # Adjusted cluster value\n",
    "        cluster_data = df[df['Cluster'] == 0]  # Adjusted cluster value\n",
    "    elif complexity_level == 'Low':\n",
    "        cluster_folder = 'Cluster_3'  # Adjusted cluster value\n",
    "        cluster_data = df[df['Cluster'] == 2]  # Adjusted cluster value\n",
    "    else:\n",
    "        print(\"Invalid complexity level. Please choose from 'High', 'Medium', or 'Low'.\")\n",
    "        return\n",
    "    \n",
    "    # Calculate differences in dimensions\n",
    "    diff_width = abs(cluster_data['Width'] - width)\n",
    "    diff_height = abs(cluster_data['Height'] - height)\n",
    "    \n",
    "    # Find closest matches within threshold\n",
    "    closest_matches = cluster_data[(diff_width <= threshold) & (diff_height <= threshold)]\n",
    "    \n",
    "    if closest_matches.empty:\n",
    "        print(f\"No similar images found within the specified threshold for {complexity_level} complexity.\")\n",
    "        return\n",
    "    \n",
    "    # Get the image names of the closest matches\n",
    "    image_names = closest_matches['Image Name'].tolist()\n",
    "    \n",
    "    # Return full image paths\n",
    "    image_paths = [os.path.join(cluster_folder, name) for name in image_names]\n",
    "    \n",
    "    # Check if all images belong to the correct cluster\n",
    "    if not all(cluster_folder in path for path in image_paths):\n",
    "        print(f\"Error: Some images are not from the correct cluster ({cluster_folder}).\")\n",
    "        return\n",
    "    \n",
    "    return image_paths[:5]  # Return only the top 5 similar images\n",
    "\n",
    "# User input\n",
    "width = float(input(\"Enter the width of the tight-fitting box: \"))\n",
    "height = float(input(\"Enter the height of the tight-fitting box: \"))\n",
    "complexity_level = input(\"Enter the complexity level (High, Medium, Low): \")\n",
    "\n",
    "# Find and print similar images\n",
    "similar_images = find_similar_images(width, height, complexity_level)\n",
    "if similar_images:\n",
    "    print(f\"Input values: Width = {width}, Height = {height}, Complexity Level = {complexity_level}\")\n",
    "    print(f\"Top 5 similar image paths for {complexity_level} complexity:\")\n",
    "    for image_path in similar_images:\n",
    "        print(image_path)\n"
   ]
  },
  {
   "cell_type": "code",
   "execution_count": 27,
   "metadata": {},
   "outputs": [
    {
     "name": "stdout",
     "output_type": "stream",
     "text": [
      "Input values: Width = 336.0, Height = 449.0, Complexity Level = High\n",
      "Displaying top 5 similar images for High complexity:\n"
     ]
    },
    {
     "name": "stderr",
     "output_type": "stream",
     "text": [
      "/snap/core20/current/lib/x86_64-linux-gnu/libstdc++.so.6: version `GLIBCXX_3.4.29' not found (required by /lib/x86_64-linux-gnu/libproxy.so.1)\n",
      "Failed to load module: /home/horizon/snap/code/common/.cache/gio-modules/libgiolibproxy.so\n",
      "/snap/core20/current/lib/x86_64-linux-gnu/libstdc++.so.6: version `GLIBCXX_3.4.29' not found (required by /lib/x86_64-linux-gnu/libproxy.so.1)\n",
      "Failed to load module: /home/horizon/snap/code/common/.cache/gio-modules/libgiolibproxy.so\n",
      "/snap/core20/current/lib/x86_64-linux-gnu/libstdc++.so.6: version `GLIBCXX_3.4.29' not found (required by /lib/x86_64-linux-gnu/libproxy.so.1)\n",
      "Failed to load module: /home/horizon/snap/code/common/.cache/gio-modules/libgiolibproxy.so\n",
      "/snap/core20/current/lib/x86_64-linux-gnu/libstdc++.so.6: version `GLIBCXX_3.4.29' not found (required by /lib/x86_64-linux-gnu/libproxy.so.1)\n",
      "Failed to load module: /home/horizon/snap/code/common/.cache/gio-modules/libgiolibproxy.so\n"
     ]
    },
    {
     "name": "stderr",
     "output_type": "stream",
     "text": [
      "/snap/core20/current/lib/x86_64-linux-gnu/libstdc++.so.6: version `GLIBCXX_3.4.29' not found (required by /lib/x86_64-linux-gnu/libproxy.so.1)\n",
      "Failed to load module: /home/horizon/snap/code/common/.cache/gio-modules/libgiolibproxy.so\n",
      "eog: symbol lookup error: /snap/core20/current/lib/x86_64-linux-gnu/libpthread.so.0: undefined symbol: __libc_pthread_init, version GLIBC_PRIVATE\n",
      "Failed to register: GDBus.Error:org.freedesktop.DBus.Error.NoReply: Message recipient disconnected from message bus without replying\n",
      "Failed to register: GDBus.Error:org.freedesktop.DBus.Error.NoReply: Message recipient disconnected from message bus without replying\n",
      "Failed to register: GDBus.Error:org.freedesktop.DBus.Error.NoReply: Message recipient disconnected from message bus without replying\n",
      "Failed to register: GDBus.Error:org.freedesktop.DBus.Error.NoReply: Message recipient disconnected from message bus without replying\n"
     ]
    }
   ],
   "source": [
    "import pandas as pd\n",
    "import os\n",
    "from PIL import Image\n",
    "\n",
    "def find_similar_images(width, height, complexity_level, threshold=5):\n",
    "    # Load CSV data\n",
    "    df = pd.read_csv('image_features_clustered_updated.csv')\n",
    "    \n",
    "    # Map complexity level to cluster\n",
    "    if complexity_level == 'High':\n",
    "        cluster_folder = 'Cluster_2'  # Adjusted cluster value\n",
    "        cluster_data = df[df['Cluster'] == 1]  # Adjusted cluster value\n",
    "    elif complexity_level == 'Medium':\n",
    "        cluster_folder = 'Cluster_1'  # Adjusted cluster value\n",
    "        cluster_data = df[df['Cluster'] == 0]  # Adjusted cluster value\n",
    "    elif complexity_level == 'Low':\n",
    "        cluster_folder = 'Cluster_3'  # Adjusted cluster value\n",
    "        cluster_data = df[df['Cluster'] == 2]  # Adjusted cluster value\n",
    "    else:\n",
    "        print(\"Invalid complexity level. Please choose from 'High', 'Medium', or 'Low'.\")\n",
    "        return\n",
    "    \n",
    "    # Calculate differences in dimensions\n",
    "    diff_width = abs(cluster_data['Width'] - width)\n",
    "    diff_height = abs(cluster_data['Height'] - height)\n",
    "    \n",
    "    # Find closest matches within threshold\n",
    "    closest_matches = cluster_data[(diff_width <= threshold) & (diff_height <= threshold)]\n",
    "    \n",
    "    if closest_matches.empty:\n",
    "        print(f\"No similar images found within the specified threshold for {complexity_level} complexity.\")\n",
    "        return\n",
    "    \n",
    "    # Get the image names of the closest matches\n",
    "    image_names = closest_matches['Image Name'].tolist()\n",
    "    \n",
    "    # Return full image paths\n",
    "    image_paths = [os.path.join(cluster_folder, name) for name in image_names]\n",
    "    \n",
    "    # Check if all images belong to the correct cluster\n",
    "    if not all(cluster_folder in path for path in image_paths):\n",
    "        print(f\"Error: Some images are not from the correct cluster ({cluster_folder}).\")\n",
    "        return\n",
    "    \n",
    "    return image_paths[:5]  # Return only the top 5 similar images\n",
    "\n",
    "# User input\n",
    "width = float(input(\"Enter the width of the tight-fitting box: \"))\n",
    "height = float(input(\"Enter the height of the tight-fitting box: \"))\n",
    "complexity_level = input(\"Enter the complexity level (High, Medium, Low): \")\n",
    "\n",
    "# Find and display similar images\n",
    "similar_images = find_similar_images(width, height, complexity_level)\n",
    "if similar_images:\n",
    "    print(f\"Input values: Width = {width}, Height = {height}, Complexity Level = {complexity_level}\")\n",
    "    print(f\"Displaying top 5 similar images for {complexity_level} complexity:\")\n",
    "    for image_path in similar_images:\n",
    "        img = Image.open(image_path)\n",
    "        img.show()\n"
   ]
  },
  {
   "cell_type": "code",
   "execution_count": 31,
   "metadata": {},
   "outputs": [
    {
     "name": "stdout",
     "output_type": "stream",
     "text": [
      "No similar images found within the specified threshold for High complexity.\n"
     ]
    }
   ],
   "source": [
    "import pandas as pd\n",
    "import os\n",
    "\n",
    "def find_similar_images(width, height, complexity_level, threshold=5):\n",
    "    # Load CSV data\n",
    "    df = pd.read_csv('image_features_clustered_updated.csv')\n",
    "    \n",
    "    # Map complexity level to cluster\n",
    "    if complexity_level == 'High':\n",
    "        cluster_folder = 'Cluster_2'\n",
    "        cluster_data = df[df['Cluster'] == 1]\n",
    "    elif complexity_level == 'Medium':\n",
    "        cluster_folder = 'Cluster_1'\n",
    "        cluster_data = df[df['Cluster'] == 0]\n",
    "    elif complexity_level == 'Low':\n",
    "        cluster_folder = 'Cluster_3'\n",
    "        cluster_data = df[df['Cluster'] == 2]\n",
    "    else:\n",
    "        print(\"Invalid complexity level. Please choose from 'High', 'Medium', or 'Low'.\")\n",
    "        return\n",
    "    \n",
    "    # Calculate differences in dimensions\n",
    "    diff_width = abs(cluster_data['Width'] - width)\n",
    "    diff_height = abs(cluster_data['Height'] - height)\n",
    "    \n",
    "    # Find closest matches within threshold\n",
    "    closest_matches = cluster_data[(diff_width <= threshold) & (diff_height <= threshold)]\n",
    "    \n",
    "    if closest_matches.empty:\n",
    "        print(f\"No similar images found within the specified threshold for {complexity_level} complexity.\")\n",
    "        return\n",
    "    \n",
    "    # Get the image names of the closest matches\n",
    "    image_names = closest_matches['Image Name'].tolist()\n",
    "    \n",
    "    # Return full image paths\n",
    "    image_paths = [os.path.join(cluster_folder, name) for name in image_names]\n",
    "    \n",
    "    # Check if all images belong to the correct cluster\n",
    "    if not all(cluster_folder in path for path in image_paths):\n",
    "        print(f\"Error: Some images are not from the correct cluster ({cluster_folder}).\")\n",
    "        return\n",
    "    \n",
    "    return image_paths[:5]  # Return only the top 5 similar images\n",
    "\n",
    "# User input\n",
    "width = float(input(\"Enter the width of the tight-fitting box: \"))\n",
    "height = float(input(\"Enter the height of the tight-fitting box: \"))\n",
    "complexity_level = input(\"Enter the complexity level (High, Medium, Low): \")\n",
    "\n",
    "# Find similar images\n",
    "similar_images = find_similar_images(width, height, complexity_level)\n",
    "if similar_images:\n",
    "    print(f\"Input values: Width = {width}, Height = {height}, Complexity Level = {complexity_level}\")\n",
    "    print(f\"Top 5 similar image paths for {complexity_level} complexity:\")\n",
    "    for image_path in similar_images:\n",
    "        print(image_path)\n"
   ]
  },
  {
   "cell_type": "code",
   "execution_count": 29,
   "metadata": {},
   "outputs": [
    {
     "name": "stdout",
     "output_type": "stream",
     "text": [
      "Input values: Width = 336.0, Height = 449.0, Complexity Level = High\n",
      "Displaying top 5 similar images for High complexity:\n"
     ]
    },
    {
     "name": "stderr",
     "output_type": "stream",
     "text": [
      "/snap/core20/current/lib/x86_64-linux-gnu/libstdc++.so.6: version `GLIBCXX_3.4.29' not found (required by /lib/x86_64-linux-gnu/libproxy.so.1)\n",
      "Failed to load module: /home/horizon/snap/code/common/.cache/gio-modules/libgiolibproxy.so\n",
      "/snap/core20/current/lib/x86_64-linux-gnu/libstdc++.so.6: version `GLIBCXX_3.4.29' not found (required by /lib/x86_64-linux-gnu/libproxy.so.1)\n",
      "Failed to load module: /home/horizon/snap/code/common/.cache/gio-modules/libgiolibproxy.so\n",
      "/snap/core20/current/lib/x86_64-linux-gnu/libstdc++.so.6: version `GLIBCXX_3.4.29' not found (required by /lib/x86_64-linux-gnu/libproxy.so.1)\n",
      "Failed to load module: /home/horizon/snap/code/common/.cache/gio-modules/libgiolibproxy.so\n",
      "/snap/core20/current/lib/x86_64-linux-gnu/libstdc++.so.6: version `GLIBCXX_3.4.29' not found (required by /lib/x86_64-linux-gnu/libproxy.so.1)\n",
      "Failed to load module: /home/horizon/snap/code/common/.cache/gio-modules/libgiolibproxy.so\n"
     ]
    },
    {
     "name": "stderr",
     "output_type": "stream",
     "text": [
      "/snap/core20/current/lib/x86_64-linux-gnu/libstdc++.so.6: version `GLIBCXX_3.4.29' not found (required by /lib/x86_64-linux-gnu/libproxy.so.1)\n",
      "Failed to load module: /home/horizon/snap/code/common/.cache/gio-modules/libgiolibproxy.so\n",
      "eog: symbol lookup error: /snap/core20/current/lib/x86_64-linux-gnu/libpthread.so.0: undefined symbol: __libc_pthread_init, version GLIBC_PRIVATE\n",
      "Failed to register: GDBus.Error:org.freedesktop.DBus.Error.NoReply: Message recipient disconnected from message bus without replying\n",
      "Failed to register: GDBus.Error:org.freedesktop.DBus.Error.NoReply: Message recipient disconnected from message bus without replying\n",
      "Failed to register: GDBus.Error:org.freedesktop.DBus.Error.NoReply: Message recipient disconnected from message bus without replying\n",
      "Failed to register: GDBus.Error:org.freedesktop.DBus.Error.NoReply: Message recipient disconnected from message bus without replying\n"
     ]
    }
   ],
   "source": [
    "import pandas as pd\n",
    "from PIL import Image\n",
    "import os\n",
    "\n",
    "def find_similar_images(width, height, complexity_level, threshold=5):\n",
    "    # Load CSV data\n",
    "    df = pd.read_csv('image_features_clustered_updated.csv')\n",
    "    \n",
    "    # Map complexity level to cluster\n",
    "    if complexity_level == 'High':\n",
    "        cluster_folder = 'Cluster_2'\n",
    "        cluster_data = df[df['Cluster'] == 1]\n",
    "    elif complexity_level == 'Medium':\n",
    "        cluster_folder = 'Cluster_1'\n",
    "        cluster_data = df[df['Cluster'] == 0]\n",
    "    elif complexity_level == 'Low':\n",
    "        cluster_folder = 'Cluster_3'\n",
    "        cluster_data = df[df['Cluster'] == 2]\n",
    "    else:\n",
    "        print(\"Invalid complexity level. Please choose from 'High', 'Medium', or 'Low'.\")\n",
    "        return\n",
    "    \n",
    "    # Calculate differences in dimensions\n",
    "    diff_width = abs(cluster_data['Width'] - width)\n",
    "    diff_height = abs(cluster_data['Height'] - height)\n",
    "    \n",
    "    # Find closest matches within threshold\n",
    "    closest_matches = cluster_data[(diff_width <= threshold) & (diff_height <= threshold)]\n",
    "    \n",
    "    if closest_matches.empty:\n",
    "        print(f\"No similar images found within the specified threshold for {complexity_level} complexity.\")\n",
    "        return\n",
    "    \n",
    "    # Get the image names of the closest matches\n",
    "    image_names = closest_matches['Image Name'].tolist()\n",
    "    \n",
    "    # Return full image paths\n",
    "    image_paths = [os.path.join(cluster_folder, name) for name in image_names]\n",
    "    \n",
    "    # Check if all images belong to the correct cluster\n",
    "    if not all(cluster_folder in path for path in image_paths):\n",
    "        print(f\"Error: Some images are not from the correct cluster ({cluster_folder}).\")\n",
    "        return\n",
    "    \n",
    "    return image_paths[:5]  # Return only the top 5 similar images\n",
    "\n",
    "# User input\n",
    "width = float(input(\"Enter the width of the tight-fitting box: \"))\n",
    "height = float(input(\"Enter the height of the tight-fitting box: \"))\n",
    "complexity_level = input(\"Enter the complexity level (High, Medium, Low): \")\n",
    "\n",
    "# Find similar images\n",
    "similar_images = find_similar_images(width, height, complexity_level)\n",
    "if similar_images:\n",
    "    print(f\"Input values: Width = {width}, Height = {height}, Complexity Level = {complexity_level}\")\n",
    "    print(f\"Displaying top 5 similar images for {complexity_level} complexity:\")\n",
    "    for image_path in similar_images:\n",
    "        try:\n",
    "            img = Image.open(image_path)\n",
    "            img.show()\n",
    "        except Exception as e:\n",
    "            print(f\"Error opening {image_path}: {e}\")\n"
   ]
  },
  {
   "cell_type": "code",
   "execution_count": null,
   "metadata": {},
   "outputs": [],
   "source": []
  }
 ],
 "metadata": {
  "kernelspec": {
   "display_name": "Python 3",
   "language": "python",
   "name": "python3"
  },
  "language_info": {
   "codemirror_mode": {
    "name": "ipython",
    "version": 3
   },
   "file_extension": ".py",
   "mimetype": "text/x-python",
   "name": "python",
   "nbconvert_exporter": "python",
   "pygments_lexer": "ipython3",
   "version": "3.10.12"
  }
 },
 "nbformat": 4,
 "nbformat_minor": 2
}
